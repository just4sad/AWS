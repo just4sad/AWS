{
 "cells": [
  {
   "cell_type": "code",
   "execution_count": 1,
   "id": "bc5199a6-459b-4e86-850c-6a699a3a2875",
   "metadata": {
    "tags": []
   },
   "outputs": [
    {
     "name": "stdout",
     "output_type": "stream",
     "text": [
      "this is a new notebook doc\n"
     ]
    }
   ],
   "source": [
    "print('this is a new notebook doc')"
   ]
  },
  {
   "cell_type": "markdown",
   "id": "e9dadc63-ba82-4328-9354-652c0074e272",
   "metadata": {},
   "source": [
    "## Set to a markdown cell!"
   ]
  },
  {
   "cell_type": "code",
   "execution_count": null,
   "id": "324dd8f6-3d7a-451c-a21b-a305ca278c4f",
   "metadata": {},
   "outputs": [],
   "source": []
  }
 ],
 "metadata": {
  "kernelspec": {
   "display_name": "conda_python3",
   "language": "python",
   "name": "conda_python3"
  },
  "language_info": {
   "codemirror_mode": {
    "name": "ipython",
    "version": 3
   },
   "file_extension": ".py",
   "mimetype": "text/x-python",
   "name": "python",
   "nbconvert_exporter": "python",
   "pygments_lexer": "ipython3",
   "version": "3.10.12"
  }
 },
 "nbformat": 4,
 "nbformat_minor": 5
}
